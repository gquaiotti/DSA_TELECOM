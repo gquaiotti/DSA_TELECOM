{
 "cells": [
  {
   "cell_type": "markdown",
   "metadata": {},
   "source": [
    "# Formação Cientista de Dados\n",
    "### Projeto com Feedback 4\n",
    "### Prevendo Customer Churn em Operadoras de Telecom"
   ]
  },
  {
   "cell_type": "markdown",
   "metadata": {},
   "source": [
    "### Gabriel Quaiotti - Abr 2020"
   ]
  },
  {
   "cell_type": "markdown",
   "metadata": {},
   "source": [
    "Customer Churn (ou Rotatividade de Clientes, em uma tradução livre) refere-se a uma decisão tomada pelo cliente sobre o término do relacionamento comercial. Refere-se também à perda de clientes. A fidelidade do cliente e a rotatividade de clientes sempre somam 100%. Se uma empresa tem uma taxa de fidelidade de 60%, então a taxa de perda de clientes é de 40%. De acordo com a\n",
    "regra de lucratividade do cliente 80/20, 20% dos clientes estão gerando 80% da receita. Portanto, é muito importante prever os usuários que provavelmente abandonarão o relacionamento comercial e os fatores que afetam as decisões do cliente.\n",
    "\n",
    "Neste projeto, você deve prever o Customer Churn em uma Operadora de Telecom.\n",
    "\n",
    "Os datasets de treino e de teste serão fornecidos para você em anexo a este projeto. Seu trabalho é criar um modelo de aprendizagem de máquina que possa prever se um cliente pode ou não cancelar seu plano e qual a probabilidade\n",
    "de isso ocorrer. O cabeçalho do dataset é uma descrição do tipo de informação em cada coluna.\n",
    "\n",
    "Usando linguagem Python, recomendamos você criar um modelo de Regressão Logística, para extrair a informação se um cliente vai cancelar seu plano (Sim ou Não) e a probabilidade de uma opção ou outra."
   ]
  },
  {
   "cell_type": "code",
   "execution_count": 107,
   "metadata": {},
   "outputs": [],
   "source": [
    "# Libraries\n",
    "from pyspark.sql import SparkSession\n",
    "\n",
    "from pyspark.sql.types import StructType\n",
    "from pyspark.sql.types import StructField\n",
    "from pyspark.sql.types import StringType\n",
    "from pyspark.sql.types import DoubleType\n",
    "from pyspark.sql.types import IntegerType\n",
    "\n",
    "from pyspark.sql.functions import col\n",
    "\n",
    "from pyspark.ml.classification import LogisticRegression\n",
    "\n",
    "from pyspark.ml.feature import VectorAssembler\n",
    "\n",
    "from pyspark.ml.evaluation import BinaryClassificationEvaluator\n",
    "\n",
    "from pyspark.mllib.evaluation import MulticlassMetrics"
   ]
  },
  {
   "cell_type": "code",
   "execution_count": 108,
   "metadata": {},
   "outputs": [],
   "source": [
    "# Spark Session - usado para trabalhar com o Spark\n",
    "spSession = SparkSession.builder.master(\"local\").appName(\"DSA-TELECOM-TRAIN\").getOrCreate()"
   ]
  },
  {
   "cell_type": "markdown",
   "metadata": {},
   "source": [
    "# TRAIN"
   ]
  },
  {
   "cell_type": "code",
   "execution_count": 109,
   "metadata": {},
   "outputs": [],
   "source": [
    "# Read train dataset\n",
    "# scaled_rdd = sc.textFile('../dataset/df_scaled_1.csv')\n",
    "features_rdd = sc.textFile('../dataset/df_features.csv')"
   ]
  },
  {
   "cell_type": "code",
   "execution_count": 110,
   "metadata": {},
   "outputs": [
    {
     "data": {
      "text/plain": [
       "['id,international_plan,number_customer_service_calls,total_day_minutes,total_eve_charge,churn',\n",
       " '10.0,2.2014212203111105,-0.6613633377187209,1.0896917903776833,0.3117714141662552,0.0',\n",
       " '15.0,-0.4537898957205725,1.0880350100175813,-1.1588572700838589,1.9754405873059246,0.0',\n",
       " '23.0,-0.4537898957205725,-0.6613633377187209,-0.14301530875859367,-2.5996496388281667,0.0',\n",
       " '39.0,2.2014212203111105,0.32267323288294913,0.1977727649444245,-0.3592111805254348,0.0']"
      ]
     },
     "execution_count": 110,
     "metadata": {},
     "output_type": "execute_result"
    }
   ],
   "source": [
    "features_rdd.take(5)"
   ]
  },
  {
   "cell_type": "code",
   "execution_count": 111,
   "metadata": {},
   "outputs": [],
   "source": [
    "# Remove header and split by ','\n",
    "header = features_rdd.first()\n",
    "features_rdd2 = features_rdd.filter(lambda line: line != header).map(lambda line: line.split(\",\"))"
   ]
  },
  {
   "cell_type": "code",
   "execution_count": 112,
   "metadata": {},
   "outputs": [],
   "source": [
    "# Define the dataFrame columns\n",
    "features_fields = [StructField(\"id\", StringType(), True), \n",
    "                   StructField(\"international_plan\", StringType(), True),\n",
    "                   StructField(\"number_customer_service_calls\", StringType(), True),\n",
    "                   StructField(\"total_day_minutes\", StringType(), True),\n",
    "                   StructField(\"total_eve_charge\", StringType(), True),\n",
    "                   StructField(\"churn\", StringType(), True)]"
   ]
  },
  {
   "cell_type": "code",
   "execution_count": 113,
   "metadata": {},
   "outputs": [],
   "source": [
    "# Define the dataFrame schema\n",
    "features_schema = StructType( features_fields )"
   ]
  },
  {
   "cell_type": "code",
   "execution_count": 114,
   "metadata": {},
   "outputs": [],
   "source": [
    "# Create dataFrame\n",
    "features_ds = spSession.createDataFrame(features_rdd2, features_schema)"
   ]
  },
  {
   "cell_type": "code",
   "execution_count": 115,
   "metadata": {},
   "outputs": [],
   "source": [
    "features_ds = features_ds.withColumn('id', col('id').cast(DoubleType()))\n",
    "features_ds = features_ds.withColumn('international_plan', col('international_plan').cast(DoubleType()))\n",
    "features_ds = features_ds.withColumn('total_day_minutes', col('total_day_minutes').cast(DoubleType()))\n",
    "features_ds = features_ds.withColumn('total_eve_charge', col('total_eve_charge').cast(DoubleType()))\n",
    "features_ds = features_ds.withColumn('number_customer_service_calls', col('number_customer_service_calls').cast(DoubleType()))\n",
    "features_ds = features_ds.withColumn('churn', col('churn').cast(DoubleType()))"
   ]
  },
  {
   "cell_type": "code",
   "execution_count": 116,
   "metadata": {},
   "outputs": [
    {
     "data": {
      "text/plain": [
       "DataFrame[id: double, international_plan: double, number_customer_service_calls: double, total_day_minutes: double, total_eve_charge: double, churn: double]"
      ]
     },
     "execution_count": 116,
     "metadata": {},
     "output_type": "execute_result"
    }
   ],
   "source": [
    "features_ds"
   ]
  },
  {
   "cell_type": "code",
   "execution_count": 117,
   "metadata": {},
   "outputs": [
    {
     "data": {
      "text/html": [
       "<div>\n",
       "<style scoped>\n",
       "    .dataframe tbody tr th:only-of-type {\n",
       "        vertical-align: middle;\n",
       "    }\n",
       "\n",
       "    .dataframe tbody tr th {\n",
       "        vertical-align: top;\n",
       "    }\n",
       "\n",
       "    .dataframe thead th {\n",
       "        text-align: right;\n",
       "    }\n",
       "</style>\n",
       "<table border=\"1\" class=\"dataframe\">\n",
       "  <thead>\n",
       "    <tr style=\"text-align: right;\">\n",
       "      <th></th>\n",
       "      <th>id</th>\n",
       "      <th>international_plan</th>\n",
       "      <th>number_customer_service_calls</th>\n",
       "      <th>total_day_minutes</th>\n",
       "      <th>total_eve_charge</th>\n",
       "      <th>churn</th>\n",
       "    </tr>\n",
       "  </thead>\n",
       "  <tbody>\n",
       "    <tr>\n",
       "      <th>0</th>\n",
       "      <td>10.0</td>\n",
       "      <td>2.201421</td>\n",
       "      <td>-0.661363</td>\n",
       "      <td>1.089692</td>\n",
       "      <td>0.311771</td>\n",
       "      <td>0.0</td>\n",
       "    </tr>\n",
       "    <tr>\n",
       "      <th>1</th>\n",
       "      <td>15.0</td>\n",
       "      <td>-0.453790</td>\n",
       "      <td>1.088035</td>\n",
       "      <td>-1.158857</td>\n",
       "      <td>1.975441</td>\n",
       "      <td>0.0</td>\n",
       "    </tr>\n",
       "    <tr>\n",
       "      <th>2</th>\n",
       "      <td>23.0</td>\n",
       "      <td>-0.453790</td>\n",
       "      <td>-0.661363</td>\n",
       "      <td>-0.143015</td>\n",
       "      <td>-2.599650</td>\n",
       "      <td>0.0</td>\n",
       "    </tr>\n",
       "    <tr>\n",
       "      <th>3</th>\n",
       "      <td>39.0</td>\n",
       "      <td>2.201421</td>\n",
       "      <td>0.322673</td>\n",
       "      <td>0.197773</td>\n",
       "      <td>-0.359211</td>\n",
       "      <td>0.0</td>\n",
       "    </tr>\n",
       "    <tr>\n",
       "      <th>4</th>\n",
       "      <td>45.0</td>\n",
       "      <td>-0.453790</td>\n",
       "      <td>-0.552026</td>\n",
       "      <td>-0.615879</td>\n",
       "      <td>0.385304</td>\n",
       "      <td>0.0</td>\n",
       "    </tr>\n",
       "  </tbody>\n",
       "</table>\n",
       "</div>"
      ],
      "text/plain": [
       "     id  international_plan  number_customer_service_calls  total_day_minutes  \\\n",
       "0  10.0            2.201421                      -0.661363           1.089692   \n",
       "1  15.0           -0.453790                       1.088035          -1.158857   \n",
       "2  23.0           -0.453790                      -0.661363          -0.143015   \n",
       "3  39.0            2.201421                       0.322673           0.197773   \n",
       "4  45.0           -0.453790                      -0.552026          -0.615879   \n",
       "\n",
       "   total_eve_charge  churn  \n",
       "0          0.311771    0.0  \n",
       "1          1.975441    0.0  \n",
       "2         -2.599650    0.0  \n",
       "3         -0.359211    0.0  \n",
       "4          0.385304    0.0  "
      ]
     },
     "execution_count": 117,
     "metadata": {},
     "output_type": "execute_result"
    }
   ],
   "source": [
    "features_ds.toPandas().head()"
   ]
  },
  {
   "cell_type": "code",
   "execution_count": 118,
   "metadata": {},
   "outputs": [],
   "source": [
    "# Convert predictor columns to vector\n",
    "vector_ds = VectorAssembler(inputCols=features_ds.drop('id', 'churn').columns, outputCol=\"features\").transform(features_ds)"
   ]
  },
  {
   "cell_type": "code",
   "execution_count": 119,
   "metadata": {},
   "outputs": [],
   "source": [
    "(train_ds, test_ds) = vector_ds.randomSplit([0.7, 0.3])"
   ]
  },
  {
   "cell_type": "code",
   "execution_count": 120,
   "metadata": {},
   "outputs": [
    {
     "data": {
      "text/plain": [
       "676"
      ]
     },
     "execution_count": 120,
     "metadata": {},
     "output_type": "execute_result"
    }
   ],
   "source": [
    "train_ds.count()"
   ]
  },
  {
   "cell_type": "code",
   "execution_count": 121,
   "metadata": {},
   "outputs": [
    {
     "data": {
      "text/plain": [
       "307"
      ]
     },
     "execution_count": 121,
     "metadata": {},
     "output_type": "execute_result"
    }
   ],
   "source": [
    "test_ds.count()"
   ]
  },
  {
   "cell_type": "code",
   "execution_count": 122,
   "metadata": {},
   "outputs": [],
   "source": [
    "# Fit Logistic Regression model\n",
    "model = LogisticRegression(featuresCol = \"features\", labelCol = \"churn\").setMaxIter(100).fit(train_ds)"
   ]
  },
  {
   "cell_type": "markdown",
   "metadata": {},
   "source": [
    "# TEST"
   ]
  },
  {
   "cell_type": "code",
   "execution_count": 123,
   "metadata": {},
   "outputs": [],
   "source": [
    "# Generate preditions\n",
    "prediction = model.transform(test_ds)"
   ]
  },
  {
   "cell_type": "code",
   "execution_count": 124,
   "metadata": {},
   "outputs": [
    {
     "data": {
      "text/html": [
       "<div>\n",
       "<style scoped>\n",
       "    .dataframe tbody tr th:only-of-type {\n",
       "        vertical-align: middle;\n",
       "    }\n",
       "\n",
       "    .dataframe tbody tr th {\n",
       "        vertical-align: top;\n",
       "    }\n",
       "\n",
       "    .dataframe thead th {\n",
       "        text-align: right;\n",
       "    }\n",
       "</style>\n",
       "<table border=\"1\" class=\"dataframe\">\n",
       "  <thead>\n",
       "    <tr style=\"text-align: right;\">\n",
       "      <th></th>\n",
       "      <th>id</th>\n",
       "      <th>international_plan</th>\n",
       "      <th>number_customer_service_calls</th>\n",
       "      <th>total_day_minutes</th>\n",
       "      <th>total_eve_charge</th>\n",
       "      <th>churn</th>\n",
       "      <th>features</th>\n",
       "      <th>rawPrediction</th>\n",
       "      <th>probability</th>\n",
       "      <th>prediction</th>\n",
       "    </tr>\n",
       "  </thead>\n",
       "  <tbody>\n",
       "    <tr>\n",
       "      <th>0</th>\n",
       "      <td>10.0</td>\n",
       "      <td>2.201421</td>\n",
       "      <td>-0.661363</td>\n",
       "      <td>1.089692</td>\n",
       "      <td>0.311771</td>\n",
       "      <td>0.0</td>\n",
       "      <td>[2.2014212203111105, -0.6613633377187209, 1.08...</td>\n",
       "      <td>[-2.2628824278833357, 2.2628824278833357]</td>\n",
       "      <td>[0.09424403093437508, 0.9057559690656248]</td>\n",
       "      <td>1.0</td>\n",
       "    </tr>\n",
       "    <tr>\n",
       "      <th>1</th>\n",
       "      <td>23.0</td>\n",
       "      <td>-0.453790</td>\n",
       "      <td>-0.661363</td>\n",
       "      <td>-0.143015</td>\n",
       "      <td>-2.599650</td>\n",
       "      <td>0.0</td>\n",
       "      <td>[-0.4537898957205725, -0.6613633377187209, -0....</td>\n",
       "      <td>[1.6292350386570995, -1.6292350386570995]</td>\n",
       "      <td>[0.8360648197923921, 0.16393518020760786]</td>\n",
       "      <td>0.0</td>\n",
       "    </tr>\n",
       "    <tr>\n",
       "      <th>2</th>\n",
       "      <td>53.0</td>\n",
       "      <td>-0.453790</td>\n",
       "      <td>-0.224014</td>\n",
       "      <td>-0.092468</td>\n",
       "      <td>-0.308658</td>\n",
       "      <td>0.0</td>\n",
       "      <td>[-0.4537898957205725, -0.22401375078464533, -0...</td>\n",
       "      <td>[0.7380331037829547, -0.7380331037829547]</td>\n",
       "      <td>[0.6765656005433838, 0.3234343994566163]</td>\n",
       "      <td>0.0</td>\n",
       "    </tr>\n",
       "    <tr>\n",
       "      <th>3</th>\n",
       "      <td>65.0</td>\n",
       "      <td>-0.453790</td>\n",
       "      <td>-0.224014</td>\n",
       "      <td>-0.987648</td>\n",
       "      <td>-0.841767</td>\n",
       "      <td>0.0</td>\n",
       "      <td>[-0.4537898957205725, -0.22401375078464533, -0...</td>\n",
       "      <td>[1.5226854381407915, -1.5226854381407915]</td>\n",
       "      <td>[0.8209335846699297, 0.17906641533007023]</td>\n",
       "      <td>0.0</td>\n",
       "    </tr>\n",
       "    <tr>\n",
       "      <th>4</th>\n",
       "      <td>104.0</td>\n",
       "      <td>-0.453790</td>\n",
       "      <td>-0.552026</td>\n",
       "      <td>-0.925686</td>\n",
       "      <td>-0.437339</td>\n",
       "      <td>0.0</td>\n",
       "      <td>[-0.4537898957205725, -0.552025940985202, -0.9...</td>\n",
       "      <td>[1.7211304916150094, -1.7211304916150094]</td>\n",
       "      <td>[0.848274393499993, 0.15172560650000694]</td>\n",
       "      <td>0.0</td>\n",
       "    </tr>\n",
       "  </tbody>\n",
       "</table>\n",
       "</div>"
      ],
      "text/plain": [
       "      id  international_plan  number_customer_service_calls  \\\n",
       "0   10.0            2.201421                      -0.661363   \n",
       "1   23.0           -0.453790                      -0.661363   \n",
       "2   53.0           -0.453790                      -0.224014   \n",
       "3   65.0           -0.453790                      -0.224014   \n",
       "4  104.0           -0.453790                      -0.552026   \n",
       "\n",
       "   total_day_minutes  total_eve_charge  churn  \\\n",
       "0           1.089692          0.311771    0.0   \n",
       "1          -0.143015         -2.599650    0.0   \n",
       "2          -0.092468         -0.308658    0.0   \n",
       "3          -0.987648         -0.841767    0.0   \n",
       "4          -0.925686         -0.437339    0.0   \n",
       "\n",
       "                                            features  \\\n",
       "0  [2.2014212203111105, -0.6613633377187209, 1.08...   \n",
       "1  [-0.4537898957205725, -0.6613633377187209, -0....   \n",
       "2  [-0.4537898957205725, -0.22401375078464533, -0...   \n",
       "3  [-0.4537898957205725, -0.22401375078464533, -0...   \n",
       "4  [-0.4537898957205725, -0.552025940985202, -0.9...   \n",
       "\n",
       "                               rawPrediction  \\\n",
       "0  [-2.2628824278833357, 2.2628824278833357]   \n",
       "1  [1.6292350386570995, -1.6292350386570995]   \n",
       "2  [0.7380331037829547, -0.7380331037829547]   \n",
       "3  [1.5226854381407915, -1.5226854381407915]   \n",
       "4  [1.7211304916150094, -1.7211304916150094]   \n",
       "\n",
       "                                 probability  prediction  \n",
       "0  [0.09424403093437508, 0.9057559690656248]         1.0  \n",
       "1  [0.8360648197923921, 0.16393518020760786]         0.0  \n",
       "2   [0.6765656005433838, 0.3234343994566163]         0.0  \n",
       "3  [0.8209335846699297, 0.17906641533007023]         0.0  \n",
       "4   [0.848274393499993, 0.15172560650000694]         0.0  "
      ]
     },
     "execution_count": 124,
     "metadata": {},
     "output_type": "execute_result"
    }
   ],
   "source": [
    "prediction.toPandas().head()"
   ]
  },
  {
   "cell_type": "markdown",
   "metadata": {},
   "source": [
    "# EVALUATE"
   ]
  },
  {
   "cell_type": "code",
   "execution_count": 125,
   "metadata": {},
   "outputs": [
    {
     "name": "stdout",
     "output_type": "stream",
     "text": [
      "areaUnderROC 0.8384125636672334\n"
     ]
    }
   ],
   "source": [
    "# Evaluate model\n",
    "evaluator = BinaryClassificationEvaluator(rawPredictionCol=\"rawPrediction\", labelCol = \"churn\")\n",
    "print(evaluator.getMetricName(), evaluator.evaluate(prediction))"
   ]
  },
  {
   "cell_type": "code",
   "execution_count": 126,
   "metadata": {},
   "outputs": [
    {
     "name": "stdout",
     "output_type": "stream",
     "text": [
      "+-----+----------+-----+-------------------+\n",
      "|churn|prediction|count|                  %|\n",
      "+-----+----------+-----+-------------------+\n",
      "|  1.0|       1.0|  109| 0.3550488599348534|\n",
      "|  0.0|       1.0|   30|0.09771986970684039|\n",
      "|  1.0|       0.0|   46| 0.1498371335504886|\n",
      "|  0.0|       0.0|  122| 0.3973941368078176|\n",
      "+-----+----------+-----+-------------------+\n",
      "\n"
     ]
    }
   ],
   "source": [
    "# View confusion matrix\n",
    "total = prediction.count()\n",
    "prediction.groupBy('churn', 'prediction').count().withColumn('%', col('count') / total).show()"
   ]
  },
  {
   "cell_type": "code",
   "execution_count": 127,
   "metadata": {},
   "outputs": [],
   "source": [
    "preds = prediction.select('churn', 'prediction').withColumnRenamed('churn', 'label')"
   ]
  },
  {
   "cell_type": "code",
   "execution_count": 128,
   "metadata": {},
   "outputs": [],
   "source": [
    "metrics = MulticlassMetrics(preds.rdd)"
   ]
  },
  {
   "cell_type": "code",
   "execution_count": 129,
   "metadata": {},
   "outputs": [
    {
     "data": {
      "text/plain": [
       "0.752442996742671"
      ]
     },
     "execution_count": 129,
     "metadata": {},
     "output_type": "execute_result"
    }
   ],
   "source": [
    "metrics.accuracy"
   ]
  },
  {
   "cell_type": "code",
   "execution_count": 130,
   "metadata": {},
   "outputs": [
    {
     "data": {
      "text/plain": [
       "array([[122.,  46.],\n",
       "       [ 30., 109.]])"
      ]
     },
     "execution_count": 130,
     "metadata": {},
     "output_type": "execute_result"
    }
   ],
   "source": [
    "metrics.confusionMatrix().toArray()"
   ]
  },
  {
   "cell_type": "code",
   "execution_count": 131,
   "metadata": {},
   "outputs": [],
   "source": [
    "model.write().overwrite().save(\"../obj/logistic_regression.obj\")"
   ]
  }
 ],
 "metadata": {
  "kernelspec": {
   "display_name": "Python 3",
   "language": "python",
   "name": "python3"
  },
  "language_info": {
   "codemirror_mode": {
    "name": "ipython",
    "version": 3
   },
   "file_extension": ".py",
   "mimetype": "text/x-python",
   "name": "python",
   "nbconvert_exporter": "python",
   "pygments_lexer": "ipython3",
   "version": "3.7.1"
  }
 },
 "nbformat": 4,
 "nbformat_minor": 4
}
