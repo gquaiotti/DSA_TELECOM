{
 "cells": [
  {
   "cell_type": "markdown",
   "metadata": {},
   "source": [
    "# Formação Cientista de Dados\n",
    "### Projeto com Feedback 4\n",
    "### Prevendo Customer Churn em Operadoras de Telecom"
   ]
  },
  {
   "cell_type": "markdown",
   "metadata": {},
   "source": [
    "### Gabriel Quaiotti - Abr 2020"
   ]
  },
  {
   "cell_type": "markdown",
   "metadata": {},
   "source": [
    "Customer Churn (ou Rotatividade de Clientes, em uma tradução livre) refere-se a uma decisão tomada pelo cliente sobre o término do relacionamento comercial. Refere-se também à perda de clientes. A fidelidade do cliente e a rotatividade de clientes sempre somam 100%. Se uma empresa tem uma taxa de fidelidade de 60%, então a taxa de perda de clientes é de 40%. De acordo com a\n",
    "regra de lucratividade do cliente 80/20, 20% dos clientes estão gerando 80% da receita. Portanto, é muito importante prever os usuários que provavelmente abandonarão o relacionamento comercial e os fatores que afetam as decisões do cliente.\n",
    "\n",
    "Neste projeto, você deve prever o Customer Churn em uma Operadora de Telecom.\n",
    "\n",
    "Os datasets de treino e de teste serão fornecidos para você em anexo a este projeto. Seu trabalho é criar um modelo de aprendizagem de máquina que possa prever se um cliente pode ou não cancelar seu plano e qual a probabilidade\n",
    "de isso ocorrer. O cabeçalho do dataset é uma descrição do tipo de informação em cada coluna.\n",
    "\n",
    "Usando linguagem Python, recomendamos você criar um modelo de Regressão Logística, para extrair a informação se um cliente vai cancelar seu plano (Sim ou Não) e a probabilidade de uma opção ou outra."
   ]
  },
  {
   "cell_type": "code",
   "execution_count": 1,
   "metadata": {},
   "outputs": [],
   "source": [
    "# Libraries\n",
    "from pyspark.sql import SparkSession\n",
    "\n",
    "from pyspark.sql.types import StructType\n",
    "from pyspark.sql.types import StructField\n",
    "from pyspark.sql.types import StringType\n",
    "from pyspark.sql.types import DoubleType\n",
    "from pyspark.sql.types import IntegerType\n",
    "\n",
    "from pyspark.sql.functions import col"
   ]
  },
  {
   "cell_type": "code",
   "execution_count": 2,
   "metadata": {},
   "outputs": [],
   "source": [
    "# Spark Session - usado para trabalhar com o Spark\n",
    "spSession = SparkSession.builder.master(\"local\").appName(\"DSA-TELECOM-BALANCE\").getOrCreate()"
   ]
  },
  {
   "cell_type": "markdown",
   "metadata": {},
   "source": [
    "# BALANCE"
   ]
  },
  {
   "cell_type": "code",
   "execution_count": 3,
   "metadata": {},
   "outputs": [],
   "source": [
    "# Read train dataset\n",
    "transformed_rdd = sc.textFile('../dataset/df_transformed.csv')"
   ]
  },
  {
   "cell_type": "code",
   "execution_count": 4,
   "metadata": {},
   "outputs": [
    {
     "data": {
      "text/plain": [
       "['id,account_length,international_plan,voice_mail_plan,number_vmail_messages,total_day_minutes,total_day_calls,total_day_charge,total_eve_minutes,total_eve_calls,total_eve_charge,total_night_minutes,total_night_calls,total_night_charge,total_intl_minutes,total_intl_calls,total_intl_charge,number_customer_service_calls,churn,state_id,area_code_id',\n",
       " '1,128.0,0,1,25,265.1,110,45.07,197.4,99,16.78,244.7,91,11.01,10.0,9.0,2.7,1.0,0,17.0,0.0',\n",
       " '2,107.0,0,1,26,161.6,123,27.47,195.5,103,16.62,254.4,103,11.45,13.7,9.0,3.7,1.0,0,5.0,0.0',\n",
       " '3,137.0,0,0,0,243.4,114,41.38,121.2,110,10.3,162.6,104,7.32,12.2,25.0,3.29,0.0,0,19.0,0.0',\n",
       " '4,84.0,1,0,0,299.4,71,50.9,61.9,88,5.26,196.9,89,8.86,6.6,49.0,1.78,4.0,0,5.0,2.0']"
      ]
     },
     "execution_count": 4,
     "metadata": {},
     "output_type": "execute_result"
    }
   ],
   "source": [
    "transformed_rdd.take(5)"
   ]
  },
  {
   "cell_type": "code",
   "execution_count": 5,
   "metadata": {},
   "outputs": [],
   "source": [
    "# Remove header and split by ','\n",
    "header = transformed_rdd.first()\n",
    "transformed_rdd2 = transformed_rdd.filter(lambda line: line != header).map(lambda line: line.split(\",\"))"
   ]
  },
  {
   "cell_type": "code",
   "execution_count": 6,
   "metadata": {},
   "outputs": [
    {
     "data": {
      "text/plain": [
       "[['1',\n",
       "  '128.0',\n",
       "  '0',\n",
       "  '1',\n",
       "  '25',\n",
       "  '265.1',\n",
       "  '110',\n",
       "  '45.07',\n",
       "  '197.4',\n",
       "  '99',\n",
       "  '16.78',\n",
       "  '244.7',\n",
       "  '91',\n",
       "  '11.01',\n",
       "  '10.0',\n",
       "  '9.0',\n",
       "  '2.7',\n",
       "  '1.0',\n",
       "  '0',\n",
       "  '17.0',\n",
       "  '0.0'],\n",
       " ['2',\n",
       "  '107.0',\n",
       "  '0',\n",
       "  '1',\n",
       "  '26',\n",
       "  '161.6',\n",
       "  '123',\n",
       "  '27.47',\n",
       "  '195.5',\n",
       "  '103',\n",
       "  '16.62',\n",
       "  '254.4',\n",
       "  '103',\n",
       "  '11.45',\n",
       "  '13.7',\n",
       "  '9.0',\n",
       "  '3.7',\n",
       "  '1.0',\n",
       "  '0',\n",
       "  '5.0',\n",
       "  '0.0'],\n",
       " ['3',\n",
       "  '137.0',\n",
       "  '0',\n",
       "  '0',\n",
       "  '0',\n",
       "  '243.4',\n",
       "  '114',\n",
       "  '41.38',\n",
       "  '121.2',\n",
       "  '110',\n",
       "  '10.3',\n",
       "  '162.6',\n",
       "  '104',\n",
       "  '7.32',\n",
       "  '12.2',\n",
       "  '25.0',\n",
       "  '3.29',\n",
       "  '0.0',\n",
       "  '0',\n",
       "  '19.0',\n",
       "  '0.0'],\n",
       " ['4',\n",
       "  '84.0',\n",
       "  '1',\n",
       "  '0',\n",
       "  '0',\n",
       "  '299.4',\n",
       "  '71',\n",
       "  '50.9',\n",
       "  '61.9',\n",
       "  '88',\n",
       "  '5.26',\n",
       "  '196.9',\n",
       "  '89',\n",
       "  '8.86',\n",
       "  '6.6',\n",
       "  '49.0',\n",
       "  '1.78',\n",
       "  '4.0',\n",
       "  '0',\n",
       "  '5.0',\n",
       "  '2.0'],\n",
       " ['5',\n",
       "  '75.0',\n",
       "  '1',\n",
       "  '0',\n",
       "  '0',\n",
       "  '166.7',\n",
       "  '113',\n",
       "  '28.34',\n",
       "  '148.3',\n",
       "  '122',\n",
       "  '12.61',\n",
       "  '186.9',\n",
       "  '121',\n",
       "  '8.41',\n",
       "  '10.1',\n",
       "  '9.0',\n",
       "  '2.73',\n",
       "  '9.0',\n",
       "  '0',\n",
       "  '34.0',\n",
       "  '0.0']]"
      ]
     },
     "execution_count": 6,
     "metadata": {},
     "output_type": "execute_result"
    }
   ],
   "source": [
    "transformed_rdd2.take(5)"
   ]
  },
  {
   "cell_type": "code",
   "execution_count": 7,
   "metadata": {},
   "outputs": [],
   "source": [
    "# Define the dataFrame columns\n",
    "transformed_fields = [StructField(\"id\", StringType(), True), \n",
    "     StructField(\"account_length\", StringType(), True),\n",
    "     StructField(\"international_plan\", StringType(), True),\n",
    "     StructField(\"voice_mail_plan\", StringType(), True),\n",
    "     StructField(\"number_vmail_messages\", StringType(), True),\n",
    "     StructField(\"total_day_minutes\", StringType(), True),\n",
    "     StructField(\"total_day_calls\", StringType(), True),\n",
    "     StructField(\"total_day_charge\", StringType(), True),\n",
    "     StructField(\"total_eve_minutes\", StringType(), True),\n",
    "     StructField(\"total_eve_calls\", StringType(), True),\n",
    "     StructField(\"total_eve_charge\", StringType(), True),\n",
    "     StructField(\"total_night_minutes\", StringType(), True),\n",
    "     StructField(\"total_night_calls\", StringType(), True),\n",
    "     StructField(\"total_night_charge\", StringType(), True),\n",
    "     StructField(\"total_intl_minutes\", StringType(), True),\n",
    "     StructField(\"total_intl_calls\", StringType(), True),\n",
    "     StructField(\"total_intl_charge\", StringType(), True),\n",
    "     StructField(\"number_customer_service_calls\", StringType(), True),\n",
    "     StructField(\"churn\", StringType(), True),\n",
    "     StructField(\"state_id\", StringType(), True),\n",
    "     StructField(\"area_code_id\", StringType(), True)]"
   ]
  },
  {
   "cell_type": "code",
   "execution_count": 8,
   "metadata": {},
   "outputs": [],
   "source": [
    "# Define the dataFrame schema\n",
    "transformed_schema = StructType( transformed_fields )"
   ]
  },
  {
   "cell_type": "code",
   "execution_count": 9,
   "metadata": {},
   "outputs": [],
   "source": [
    "# Create dataFrame\n",
    "transformed_ds = spSession.createDataFrame(transformed_rdd2, transformed_schema)"
   ]
  },
  {
   "cell_type": "code",
   "execution_count": 10,
   "metadata": {},
   "outputs": [
    {
     "data": {
      "text/html": [
       "<div>\n",
       "<style scoped>\n",
       "    .dataframe tbody tr th:only-of-type {\n",
       "        vertical-align: middle;\n",
       "    }\n",
       "\n",
       "    .dataframe tbody tr th {\n",
       "        vertical-align: top;\n",
       "    }\n",
       "\n",
       "    .dataframe thead th {\n",
       "        text-align: right;\n",
       "    }\n",
       "</style>\n",
       "<table border=\"1\" class=\"dataframe\">\n",
       "  <thead>\n",
       "    <tr style=\"text-align: right;\">\n",
       "      <th></th>\n",
       "      <th>id</th>\n",
       "      <th>account_length</th>\n",
       "      <th>international_plan</th>\n",
       "      <th>voice_mail_plan</th>\n",
       "      <th>number_vmail_messages</th>\n",
       "      <th>total_day_minutes</th>\n",
       "      <th>total_day_calls</th>\n",
       "      <th>total_day_charge</th>\n",
       "      <th>total_eve_minutes</th>\n",
       "      <th>total_eve_calls</th>\n",
       "      <th>...</th>\n",
       "      <th>total_night_minutes</th>\n",
       "      <th>total_night_calls</th>\n",
       "      <th>total_night_charge</th>\n",
       "      <th>total_intl_minutes</th>\n",
       "      <th>total_intl_calls</th>\n",
       "      <th>total_intl_charge</th>\n",
       "      <th>number_customer_service_calls</th>\n",
       "      <th>churn</th>\n",
       "      <th>state_id</th>\n",
       "      <th>area_code_id</th>\n",
       "    </tr>\n",
       "  </thead>\n",
       "  <tbody>\n",
       "    <tr>\n",
       "      <th>0</th>\n",
       "      <td>1</td>\n",
       "      <td>128.0</td>\n",
       "      <td>0</td>\n",
       "      <td>1</td>\n",
       "      <td>25</td>\n",
       "      <td>265.1</td>\n",
       "      <td>110</td>\n",
       "      <td>45.07</td>\n",
       "      <td>197.4</td>\n",
       "      <td>99</td>\n",
       "      <td>...</td>\n",
       "      <td>244.7</td>\n",
       "      <td>91</td>\n",
       "      <td>11.01</td>\n",
       "      <td>10.0</td>\n",
       "      <td>9.0</td>\n",
       "      <td>2.7</td>\n",
       "      <td>1.0</td>\n",
       "      <td>0</td>\n",
       "      <td>17.0</td>\n",
       "      <td>0.0</td>\n",
       "    </tr>\n",
       "    <tr>\n",
       "      <th>1</th>\n",
       "      <td>2</td>\n",
       "      <td>107.0</td>\n",
       "      <td>0</td>\n",
       "      <td>1</td>\n",
       "      <td>26</td>\n",
       "      <td>161.6</td>\n",
       "      <td>123</td>\n",
       "      <td>27.47</td>\n",
       "      <td>195.5</td>\n",
       "      <td>103</td>\n",
       "      <td>...</td>\n",
       "      <td>254.4</td>\n",
       "      <td>103</td>\n",
       "      <td>11.45</td>\n",
       "      <td>13.7</td>\n",
       "      <td>9.0</td>\n",
       "      <td>3.7</td>\n",
       "      <td>1.0</td>\n",
       "      <td>0</td>\n",
       "      <td>5.0</td>\n",
       "      <td>0.0</td>\n",
       "    </tr>\n",
       "    <tr>\n",
       "      <th>2</th>\n",
       "      <td>3</td>\n",
       "      <td>137.0</td>\n",
       "      <td>0</td>\n",
       "      <td>0</td>\n",
       "      <td>0</td>\n",
       "      <td>243.4</td>\n",
       "      <td>114</td>\n",
       "      <td>41.38</td>\n",
       "      <td>121.2</td>\n",
       "      <td>110</td>\n",
       "      <td>...</td>\n",
       "      <td>162.6</td>\n",
       "      <td>104</td>\n",
       "      <td>7.32</td>\n",
       "      <td>12.2</td>\n",
       "      <td>25.0</td>\n",
       "      <td>3.29</td>\n",
       "      <td>0.0</td>\n",
       "      <td>0</td>\n",
       "      <td>19.0</td>\n",
       "      <td>0.0</td>\n",
       "    </tr>\n",
       "    <tr>\n",
       "      <th>3</th>\n",
       "      <td>4</td>\n",
       "      <td>84.0</td>\n",
       "      <td>1</td>\n",
       "      <td>0</td>\n",
       "      <td>0</td>\n",
       "      <td>299.4</td>\n",
       "      <td>71</td>\n",
       "      <td>50.9</td>\n",
       "      <td>61.9</td>\n",
       "      <td>88</td>\n",
       "      <td>...</td>\n",
       "      <td>196.9</td>\n",
       "      <td>89</td>\n",
       "      <td>8.86</td>\n",
       "      <td>6.6</td>\n",
       "      <td>49.0</td>\n",
       "      <td>1.78</td>\n",
       "      <td>4.0</td>\n",
       "      <td>0</td>\n",
       "      <td>5.0</td>\n",
       "      <td>2.0</td>\n",
       "    </tr>\n",
       "    <tr>\n",
       "      <th>4</th>\n",
       "      <td>5</td>\n",
       "      <td>75.0</td>\n",
       "      <td>1</td>\n",
       "      <td>0</td>\n",
       "      <td>0</td>\n",
       "      <td>166.7</td>\n",
       "      <td>113</td>\n",
       "      <td>28.34</td>\n",
       "      <td>148.3</td>\n",
       "      <td>122</td>\n",
       "      <td>...</td>\n",
       "      <td>186.9</td>\n",
       "      <td>121</td>\n",
       "      <td>8.41</td>\n",
       "      <td>10.1</td>\n",
       "      <td>9.0</td>\n",
       "      <td>2.73</td>\n",
       "      <td>9.0</td>\n",
       "      <td>0</td>\n",
       "      <td>34.0</td>\n",
       "      <td>0.0</td>\n",
       "    </tr>\n",
       "  </tbody>\n",
       "</table>\n",
       "<p>5 rows × 21 columns</p>\n",
       "</div>"
      ],
      "text/plain": [
       "  id account_length international_plan voice_mail_plan number_vmail_messages  \\\n",
       "0  1          128.0                  0               1                    25   \n",
       "1  2          107.0                  0               1                    26   \n",
       "2  3          137.0                  0               0                     0   \n",
       "3  4           84.0                  1               0                     0   \n",
       "4  5           75.0                  1               0                     0   \n",
       "\n",
       "  total_day_minutes total_day_calls total_day_charge total_eve_minutes  \\\n",
       "0             265.1             110            45.07             197.4   \n",
       "1             161.6             123            27.47             195.5   \n",
       "2             243.4             114            41.38             121.2   \n",
       "3             299.4              71             50.9              61.9   \n",
       "4             166.7             113            28.34             148.3   \n",
       "\n",
       "  total_eve_calls  ... total_night_minutes total_night_calls  \\\n",
       "0              99  ...               244.7                91   \n",
       "1             103  ...               254.4               103   \n",
       "2             110  ...               162.6               104   \n",
       "3              88  ...               196.9                89   \n",
       "4             122  ...               186.9               121   \n",
       "\n",
       "  total_night_charge total_intl_minutes total_intl_calls total_intl_charge  \\\n",
       "0              11.01               10.0              9.0               2.7   \n",
       "1              11.45               13.7              9.0               3.7   \n",
       "2               7.32               12.2             25.0              3.29   \n",
       "3               8.86                6.6             49.0              1.78   \n",
       "4               8.41               10.1              9.0              2.73   \n",
       "\n",
       "  number_customer_service_calls churn state_id area_code_id  \n",
       "0                           1.0     0     17.0          0.0  \n",
       "1                           1.0     0      5.0          0.0  \n",
       "2                           0.0     0     19.0          0.0  \n",
       "3                           4.0     0      5.0          2.0  \n",
       "4                           9.0     0     34.0          0.0  \n",
       "\n",
       "[5 rows x 21 columns]"
      ]
     },
     "execution_count": 10,
     "metadata": {},
     "output_type": "execute_result"
    }
   ],
   "source": [
    "transformed_ds.toPandas().head()"
   ]
  },
  {
   "cell_type": "code",
   "execution_count": 11,
   "metadata": {},
   "outputs": [
    {
     "data": {
      "text/plain": [
       "['id',\n",
       " 'account_length',\n",
       " 'international_plan',\n",
       " 'voice_mail_plan',\n",
       " 'number_vmail_messages',\n",
       " 'total_day_minutes',\n",
       " 'total_day_calls',\n",
       " 'total_day_charge',\n",
       " 'total_eve_minutes',\n",
       " 'total_eve_calls',\n",
       " 'total_eve_charge',\n",
       " 'total_night_minutes',\n",
       " 'total_night_calls',\n",
       " 'total_night_charge',\n",
       " 'total_intl_minutes',\n",
       " 'total_intl_calls',\n",
       " 'total_intl_charge',\n",
       " 'number_customer_service_calls',\n",
       " 'churn',\n",
       " 'state_id',\n",
       " 'area_code_id']"
      ]
     },
     "execution_count": 11,
     "metadata": {},
     "output_type": "execute_result"
    }
   ],
   "source": [
    "transformed_ds.columns"
   ]
  },
  {
   "cell_type": "code",
   "execution_count": 12,
   "metadata": {},
   "outputs": [],
   "source": [
    "# Cast columns type\n",
    "transformed_ds = transformed_ds.withColumn('id', col('id').cast(IntegerType()))\n",
    "transformed_ds = transformed_ds.withColumn('account_length', col('account_length').cast(DoubleType()))\n",
    "transformed_ds = transformed_ds.withColumn('international_plan', col('international_plan').cast(IntegerType()))\n",
    "transformed_ds = transformed_ds.withColumn('voice_mail_plan', col('voice_mail_plan').cast(IntegerType()))\n",
    "transformed_ds = transformed_ds.withColumn('number_vmail_messages', col('number_vmail_messages').cast(IntegerType()))\n",
    "transformed_ds = transformed_ds.withColumn('total_day_minutes', col('total_day_minutes').cast(DoubleType()))\n",
    "transformed_ds = transformed_ds.withColumn('total_day_calls', col('total_day_calls').cast(IntegerType()))\n",
    "transformed_ds = transformed_ds.withColumn('total_day_charge', col('total_day_charge').cast(DoubleType()))\n",
    "transformed_ds = transformed_ds.withColumn('total_eve_minutes', col('total_eve_minutes').cast(DoubleType()))\n",
    "transformed_ds = transformed_ds.withColumn('total_eve_calls', col('total_eve_calls').cast(IntegerType()))\n",
    "transformed_ds = transformed_ds.withColumn('total_eve_charge', col('total_eve_charge').cast(DoubleType()))\n",
    "transformed_ds = transformed_ds.withColumn('total_night_minutes', col('total_night_minutes').cast(DoubleType()))\n",
    "transformed_ds = transformed_ds.withColumn('total_night_calls', col('total_night_calls').cast(IntegerType()))\n",
    "transformed_ds = transformed_ds.withColumn('total_night_charge', col('total_night_charge').cast(DoubleType()))\n",
    "transformed_ds = transformed_ds.withColumn('total_intl_minutes', col('total_intl_minutes').cast(DoubleType()))\n",
    "transformed_ds = transformed_ds.withColumn('total_intl_calls', col('total_intl_calls').cast(IntegerType()))\n",
    "transformed_ds = transformed_ds.withColumn('total_intl_charge', col('total_intl_charge').cast(DoubleType()))\n",
    "transformed_ds = transformed_ds.withColumn('number_customer_service_calls', col('number_customer_service_calls').cast(IntegerType()))\n",
    "transformed_ds = transformed_ds.withColumn('churn', col('churn').cast(IntegerType()))\n",
    "transformed_ds = transformed_ds.withColumn('state_id', col('state_id').cast(IntegerType()))\n",
    "transformed_ds = transformed_ds.withColumn('area_code_id', col('area_code_id').cast(IntegerType()))"
   ]
  },
  {
   "cell_type": "code",
   "execution_count": 13,
   "metadata": {},
   "outputs": [
    {
     "data": {
      "text/plain": [
       "DataFrame[id: int, account_length: double, international_plan: int, voice_mail_plan: int, number_vmail_messages: int, total_day_minutes: double, total_day_calls: int, total_day_charge: double, total_eve_minutes: double, total_eve_calls: int, total_eve_charge: double, total_night_minutes: double, total_night_calls: int, total_night_charge: double, total_intl_minutes: double, total_intl_calls: int, total_intl_charge: double, number_customer_service_calls: int, churn: int, state_id: int, area_code_id: int]"
      ]
     },
     "execution_count": 13,
     "metadata": {},
     "output_type": "execute_result"
    }
   ],
   "source": [
    "transformed_ds"
   ]
  },
  {
   "cell_type": "code",
   "execution_count": 14,
   "metadata": {},
   "outputs": [
    {
     "name": "stdout",
     "output_type": "stream",
     "text": [
      "+-----+-----+\n",
      "|churn|count|\n",
      "+-----+-----+\n",
      "|    1|  483|\n",
      "|    0| 2850|\n",
      "+-----+-----+\n",
      "\n"
     ]
    }
   ],
   "source": [
    "# Check dataset TARGET variable balance\n",
    "transformed_ds.groupBy('churn').count().show()"
   ]
  },
  {
   "cell_type": "code",
   "execution_count": 15,
   "metadata": {},
   "outputs": [
    {
     "name": "stdout",
     "output_type": "stream",
     "text": [
      "+-----+-----+\n",
      "|churn|count|\n",
      "+-----+-----+\n",
      "|    1| 2861|\n",
      "|    0| 2850|\n",
      "+-----+-----+\n",
      "\n"
     ]
    }
   ],
   "source": [
    "# The dataset is unbalanced\n",
    "# First option is to increase the 'churn = 1 cases'\n",
    "\n",
    "# Balance the dataset (increase churn=1 cases)\n",
    "df_t0 = transformed_ds.where(col('churn') == 0)\n",
    "df_t1 = transformed_ds.where(col('churn') == 1)\n",
    "\n",
    "# Define the fraction\n",
    "fraction = df_t0.count() / df_t1.count()\n",
    "\n",
    "df_t1 = df_t1.sample(\n",
    "    withReplacement = True, \n",
    "    fraction = fraction, \n",
    "    seed = 123)\n",
    "\n",
    "# Combine majority class with upsampled minority class\n",
    "df_balanced_1 = df_t0.union(df_t1)\n",
    " \n",
    "# Display new class counts\n",
    "df_balanced_1.groupBy('churn').count().show()"
   ]
  },
  {
   "cell_type": "code",
   "execution_count": 16,
   "metadata": {},
   "outputs": [],
   "source": [
    "# Save dataFrame to CSV file\n",
    "df_balanced_1.toPandas().to_csv('../dataset/df_balanced_1.csv', index=False)"
   ]
  },
  {
   "cell_type": "code",
   "execution_count": 17,
   "metadata": {},
   "outputs": [
    {
     "name": "stdout",
     "output_type": "stream",
     "text": [
      "+-----+-----+\n",
      "|churn|count|\n",
      "+-----+-----+\n",
      "|    1|  483|\n",
      "|    0|  500|\n",
      "+-----+-----+\n",
      "\n"
     ]
    }
   ],
   "source": [
    "# The dataset is unbalanced\n",
    "# Second option is to DECREASE the 'churn = 1 cases'\n",
    "\n",
    "# Balance the dataset (increase churn=1 cases)\n",
    "df_t0 = transformed_ds.where(col('churn') == 0)\n",
    "df_t1 = transformed_ds.where(col('churn') == 1)\n",
    "\n",
    "# Define the fraction\n",
    "fraction = df_t1.count() / df_t0.count()\n",
    "\n",
    "df_t0 = df_t0.sample(\n",
    "    fraction = fraction, \n",
    "    seed = 123)\n",
    "\n",
    "# Combine minority class with upsampled minority class\n",
    "df_balanced_0 = df_t0.union(df_t1)\n",
    " \n",
    "# Display new class counts\n",
    "df_balanced_0.groupBy('churn').count().show()"
   ]
  },
  {
   "cell_type": "code",
   "execution_count": 18,
   "metadata": {},
   "outputs": [],
   "source": [
    "# Save dataFrame to CSV file\n",
    "df_balanced_0.toPandas().to_csv('../dataset/df_balanced_0.csv', index=False)"
   ]
  }
 ],
 "metadata": {
  "kernelspec": {
   "display_name": "Python 3",
   "language": "python",
   "name": "python3"
  },
  "language_info": {
   "codemirror_mode": {
    "name": "ipython",
    "version": 3
   },
   "file_extension": ".py",
   "mimetype": "text/x-python",
   "name": "python",
   "nbconvert_exporter": "python",
   "pygments_lexer": "ipython3",
   "version": "3.7.1"
  }
 },
 "nbformat": 4,
 "nbformat_minor": 4
}
